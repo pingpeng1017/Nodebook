{
 "cells": [
  {
   "cell_type": "markdown",
   "id": "24ad7104",
   "metadata": {},
   "source": [
    "## **문제 1**"
   ]
  },
  {
   "cell_type": "markdown",
   "id": "5fbc6447",
   "metadata": {},
   "source": [
    "일본에는 한식 열풍이 불고 있습니다. 기회를 엿본 영훈이는 대기업을 퇴사하고 신주쿠에 프랜차이즈 ‘품생사닭갈비’ 가맹점을 냈습니다. 그러나 보수적인 아버지께서는 번듯한 직장을 박차고 나온 영훈이가 못마땅합니다. 아버지를 안심시키기 위해 매달 매출을 보고하려고 하는데요."
   ]
  },
  {
   "cell_type": "markdown",
   "id": "1f8fe508",
   "metadata": {},
   "source": [
    "문제) 엔화(¥)로 저장한 매출 데이터를 원화(₩)로 변환하는 작업이 필요합니다. numpy를 이용하여 엔화 매출이 담겨 있는 파이썬 리스트가 주어졌습니다. 1엔에 10.38원이라고 가정하고, 원화 매출이 담긴 numpy array를 만들어 출력해주세요. (문제 데이터를 활용해주세요.)"
   ]
  },
  {
   "cell_type": "code",
   "execution_count": 1,
   "id": "2556ba51",
   "metadata": {},
   "outputs": [],
   "source": [
    "import numpy as np\n",
    "\n",
    "# revenue_in_yen : 엔화(¥) 매출 데이터\n",
    "revenue_in_yen = [\n",
    "    300000, 340000, 320000, 360000,\n",
    "    440000, 140000, 180000, 340000,\n",
    "    330000, 290000, 280000, 380000,\n",
    "    170000, 140000, 230000, 390000,\n",
    "    400000, 350000, 380000, 380000,\n",
    "    340000, 420000, 150000, 130000,\n",
    "    360000, 320000, 250000\n",
    "]"
   ]
  },
  {
   "cell_type": "code",
   "execution_count": 2,
   "id": "71be8beb",
   "metadata": {},
   "outputs": [
    {
     "data": {
      "text/plain": [
       "array([3114000., 3529200., 3321600., 3736800., 4567200., 1453200.,\n",
       "       1868400., 3529200., 3425400., 3010200., 2906400., 3944400.,\n",
       "       1764600., 1453200., 2387400., 4048200., 4152000., 3633000.,\n",
       "       3944400., 3944400., 3529200., 4359600., 1557000., 1349400.,\n",
       "       3736800., 3321600., 2595000.])"
      ]
     },
     "execution_count": 2,
     "metadata": {},
     "output_type": "execute_result"
    }
   ],
   "source": [
    "# 엔화 np리스트\n",
    "yen_array = np.array(revenue_in_yen)\n",
    "\n",
    "# 원화 np리스트\n",
    "won_array = yen_array * 10.38\n",
    "won_array"
   ]
  },
  {
   "cell_type": "markdown",
   "id": "ac45e182",
   "metadata": {},
   "source": [
    "## **문제 2**"
   ]
  },
  {
   "cell_type": "markdown",
   "id": "cc4d5594",
   "metadata": {},
   "source": [
    "영훈이에 이어 소문을 들은 Jimmy가 이에 질세라 신주쿠에 품새사닭갈비 집을 차리는데요. 이제 직장인들에게 소문난 맛집입니다. 그러나 매일 성공적인 것은 아닌데요. 목표 일 매출을 달성하지 못하는 날들이 아직 꽤 있었습니다."
   ]
  },
  {
   "cell_type": "markdown",
   "id": "8fd9bffd",
   "metadata": {},
   "source": [
    "문제) 성공적이지 않은 날의 매출만 골라서 보고 싶습니다. 20만 엔 이하의 매출만 담긴 numpy array를 출력해주세요. (문제 데이터를 활용해주세요.)"
   ]
  },
  {
   "cell_type": "code",
   "execution_count": 3,
   "id": "3fb8a055",
   "metadata": {},
   "outputs": [],
   "source": [
    "import numpy as np\n",
    "\n",
    "# revenue_in_yen : 엔화(¥) 매출 데이터\n",
    "revenue_in_yen = [\n",
    "    300000, 340000, 320000, 360000,\n",
    "    440000, 140000, 180000, 340000,\n",
    "    330000, 290000, 280000, 380000,\n",
    "    170000, 140000, 230000, 390000,\n",
    "    400000, 350000, 380000, 380000,\n",
    "    340000, 420000, 150000, 130000,\n",
    "    360000, 320000, 250000\n",
    "]"
   ]
  },
  {
   "cell_type": "code",
   "execution_count": 4,
   "id": "dd05c069",
   "metadata": {},
   "outputs": [
    {
     "data": {
      "text/plain": [
       "array([140000, 180000, 170000, 140000, 150000, 130000])"
      ]
     },
     "execution_count": 4,
     "metadata": {},
     "output_type": "execute_result"
    }
   ],
   "source": [
    "# yen_array : 엔화(¥) 리스트\n",
    "yen_array = np.array(revenue_in_yen)\n",
    "bad_sales = yen_array[np.where(yen_array <= 200000)]\n",
    "bad_sales"
   ]
  },
  {
   "cell_type": "markdown",
   "id": "6b9e6874",
   "metadata": {},
   "source": [
    "## **문제 3**"
   ]
  },
  {
   "cell_type": "markdown",
   "id": "825fe9e0",
   "metadata": {},
   "source": [
    "값이 10~49인 벡터를 만들어보세요."
   ]
  },
  {
   "cell_type": "code",
   "execution_count": 5,
   "id": "9594a1f8",
   "metadata": {},
   "outputs": [
    {
     "name": "stdout",
     "output_type": "stream",
     "text": [
      "[10 11 12 13 14 15 16 17 18 19 20 21 22 23 24 25 26 27 28 29 30 31 32 33\n",
      " 34 35 36 37 38 39 40 41 42 43 44 45 46 47 48 49]\n"
     ]
    }
   ],
   "source": [
    "Z1 = np.arange(10, 50)\n",
    "print(Z1)"
   ]
  },
  {
   "cell_type": "markdown",
   "id": "afd55136",
   "metadata": {},
   "source": [
    "## **문제 4**"
   ]
  },
  {
   "cell_type": "markdown",
   "id": "29ce6a45",
   "metadata": {},
   "source": [
    "1부터 9까지의 값을 활용하여 3행 3열 행렬을 만들어보세요."
   ]
  },
  {
   "cell_type": "code",
   "execution_count": 6,
   "id": "92a7643e",
   "metadata": {},
   "outputs": [
    {
     "name": "stdout",
     "output_type": "stream",
     "text": [
      "[[1 2 3]\n",
      " [4 5 6]\n",
      " [7 8 9]]\n"
     ]
    }
   ],
   "source": [
    "Z2 = np.arange(1, 10).reshape(3, 3)\n",
    "print(Z2)"
   ]
  },
  {
   "cell_type": "markdown",
   "id": "9cb0bf79",
   "metadata": {},
   "source": [
    "## **문제 5**"
   ]
  },
  {
   "cell_type": "markdown",
   "id": "0711fd01",
   "metadata": {},
   "source": [
    "크기가 50인 랜덤 벡터를 만들고 평균값을 찾아보세요."
   ]
  },
  {
   "cell_type": "code",
   "execution_count": 7,
   "id": "0552f574",
   "metadata": {},
   "outputs": [
    {
     "name": "stdout",
     "output_type": "stream",
     "text": [
      "0.48573907850786063\n"
     ]
    }
   ],
   "source": [
    "Z3 = np.random.rand(50)\n",
    "Z3_mean = np.mean(Z3)\n",
    "print(Z3_mean)"
   ]
  },
  {
   "cell_type": "markdown",
   "id": "f9bf2fdb",
   "metadata": {},
   "source": [
    "## **문제 6**"
   ]
  },
  {
   "cell_type": "markdown",
   "id": "b15fd693",
   "metadata": {},
   "source": [
    "크기가 7인 랜덤 벡터를 만들어 정렬해보세요."
   ]
  },
  {
   "cell_type": "code",
   "execution_count": 8,
   "id": "67574a34",
   "metadata": {},
   "outputs": [
    {
     "name": "stdout",
     "output_type": "stream",
     "text": [
      "[0.11537154 0.1169328  0.30057386 0.38101791 0.60969066 0.77402187\n",
      " 0.86754961]\n"
     ]
    }
   ],
   "source": [
    "Z4 = np.random.rand(7)\n",
    "Z4.sort()\n",
    "print(Z4)"
   ]
  },
  {
   "cell_type": "markdown",
   "id": "3a1d08d1",
   "metadata": {},
   "source": [
    "## **문제 7**"
   ]
  },
  {
   "cell_type": "markdown",
   "id": "d706e200",
   "metadata": {},
   "source": [
    "크기가 15인 랜덤 벡터를 만들고 최대값을 0으로 바꾸어보세요."
   ]
  },
  {
   "cell_type": "code",
   "execution_count": 9,
   "id": "aa672fe1",
   "metadata": {},
   "outputs": [
    {
     "name": "stdout",
     "output_type": "stream",
     "text": [
      "[0.25534694 0.84776591 0.8852957  0.74176141 0.67712737 0.21245497\n",
      " 0.16528949 0.70664983 0.34920597 0.12394625 0.56850576 0.8760466\n",
      " 0.24102768 0.23009103 0.        ]\n"
     ]
    }
   ],
   "source": [
    "Z5 = np.random.rand(15)\n",
    "Z5[Z5.argmax()] = 0\n",
    "print(Z5)"
   ]
  },
  {
   "cell_type": "markdown",
   "id": "e0852244",
   "metadata": {},
   "source": [
    "## **문제 8**"
   ]
  },
  {
   "cell_type": "markdown",
   "id": "bcffd008",
   "metadata": {},
   "source": [
    "1부터 25까지의 원소를 갖는 5X5 행렬을 만들고, 임의의 두 행을 서로 바꾸어보세요."
   ]
  },
  {
   "cell_type": "code",
   "execution_count": 10,
   "id": "09e233d4",
   "metadata": {},
   "outputs": [
    {
     "name": "stdout",
     "output_type": "stream",
     "text": [
      "[[ 6  7  8  9 10]\n",
      " [ 1  2  3  4  5]\n",
      " [11 12 13 14 15]\n",
      " [16 17 18 19 20]\n",
      " [21 22 23 24 25]]\n"
     ]
    }
   ],
   "source": [
    "A = np.arange(1, 26).reshape(5, 5)\n",
    "A[[0, 1]] = A[[1, 0]]\n",
    "print(A)"
   ]
  },
  {
   "cell_type": "markdown",
   "id": "dcef4b15",
   "metadata": {},
   "source": [
    "## **문제 9**"
   ]
  },
  {
   "cell_type": "markdown",
   "id": "63486c3c",
   "metadata": {},
   "source": [
    "X행렬이 다음과 같을 때, 행렬 인덱싱을 사용하여 4의 배수만을 선택하여 하나의 벡터로 만드는 NumPy 코드를 작성하세요. (단, NumPy 슬라이싱 인덱싱을 사용하지 말 것!)"
   ]
  },
  {
   "cell_type": "code",
   "execution_count": 11,
   "id": "19bb1f68",
   "metadata": {},
   "outputs": [
    {
     "data": {
      "text/plain": [
       "array([[ 1,  1,  1,  1],\n",
       "       [ 1,  2,  4,  8],\n",
       "       [ 1,  3,  5,  7],\n",
       "       [ 1,  4, 16, 32],\n",
       "       [ 1,  5,  9, 13]])"
      ]
     },
     "execution_count": 11,
     "metadata": {},
     "output_type": "execute_result"
    }
   ],
   "source": [
    "X = np.array([[1, 1, 1, 1], [1, 2, 4, 8], [1, 3, 5, 7], [1, 4, 16, 32], [1, 5, 9, 13]])\n",
    "X"
   ]
  },
  {
   "cell_type": "code",
   "execution_count": 12,
   "id": "480abaae",
   "metadata": {},
   "outputs": [
    {
     "data": {
      "text/plain": [
       "array([ 4,  8,  4, 16, 32])"
      ]
     },
     "execution_count": 12,
     "metadata": {},
     "output_type": "execute_result"
    }
   ],
   "source": [
    "X[(X % 4 == 0)]"
   ]
  },
  {
   "cell_type": "markdown",
   "id": "0eed7ab8",
   "metadata": {},
   "source": [
    "## **문제 10**"
   ]
  },
  {
   "cell_type": "markdown",
   "id": "4a41004b",
   "metadata": {},
   "source": [
    "다음 행렬 X가 5명의 학생이 3번 시험 본 성적이라고 가정했을 때, 각 학생의 최고 성적을 구하는 코드를 작성하세요."
   ]
  },
  {
   "cell_type": "code",
   "execution_count": 13,
   "id": "5777f07d",
   "metadata": {},
   "outputs": [
    {
     "data": {
      "text/plain": [
       "array([[44, 47, 64],\n",
       "       [67, 67,  9],\n",
       "       [83, 21, 36],\n",
       "       [87, 70, 88],\n",
       "       [88, 12, 58]])"
      ]
     },
     "execution_count": 13,
     "metadata": {},
     "output_type": "execute_result"
    }
   ],
   "source": [
    "np.random.seed(0)\n",
    "X = np.random.randint(0, 100, (5,3))\n",
    "X"
   ]
  },
  {
   "cell_type": "code",
   "execution_count": 14,
   "id": "4fb64623",
   "metadata": {},
   "outputs": [
    {
     "data": {
      "text/plain": [
       "array([64, 67, 83, 88, 88])"
      ]
     },
     "execution_count": 14,
     "metadata": {},
     "output_type": "execute_result"
    }
   ],
   "source": [
    "X.max(axis=1)"
   ]
  }
 ],
 "metadata": {
  "kernelspec": {
   "display_name": "Python 3 (ipykernel)",
   "language": "python",
   "name": "python3"
  },
  "language_info": {
   "codemirror_mode": {
    "name": "ipython",
    "version": 3
   },
   "file_extension": ".py",
   "mimetype": "text/x-python",
   "name": "python",
   "nbconvert_exporter": "python",
   "pygments_lexer": "ipython3",
   "version": "3.10.9"
  }
 },
 "nbformat": 4,
 "nbformat_minor": 5
}
